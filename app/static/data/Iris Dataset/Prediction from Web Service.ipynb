{
 "cells": [
  {
   "cell_type": "code",
   "execution_count": 1,
   "metadata": {
    "collapsed": true
   },
   "outputs": [],
   "source": [
    "import urllib.request\n",
    "import json\n",
    "import re"
   ]
  },
  {
   "cell_type": "code",
   "execution_count": 2,
   "metadata": {
    "collapsed": true
   },
   "outputs": [],
   "source": [
    "# Example from CSV\n",
    "\n",
    "SepalLength = 5.8\n",
    "SepalWidth = 4\n",
    "PetalLength = 1.2\n",
    "Petalwidth = 0.2"
   ]
  },
  {
   "cell_type": "code",
   "execution_count": 3,
   "metadata": {
    "collapsed": true
   },
   "outputs": [],
   "source": [
    "data = {\n",
    "        \"Inputs\": {\n",
    "                \"input1\":\n",
    "                [\n",
    "                    {\n",
    "                            'Sepal-Length': SepalLength,   \n",
    "                            'Sepal-Width': SepalWidth,   \n",
    "                            'Petal-Length': PetalLength,   \n",
    "                            'Petal-width': Petalwidth,   \n",
    "                            'Class': \"Iris-setosa\",   \n",
    "                            'Class-Type': \"1\",   \n",
    "                    }\n",
    "                ],\n",
    "        },\n",
    "    \"GlobalParameters\":  {\n",
    "    }\n",
    "}"
   ]
  },
  {
   "cell_type": "code",
   "execution_count": 4,
   "metadata": {
    "collapsed": true
   },
   "outputs": [],
   "source": [
    "body = str.encode(json.dumps(data))\n",
    "\n",
    "url = 'https://ussouthcentral.services.azureml.net/workspaces/1cf6b3863fc84cb0a94327ce65cd9fda/services/da432a6f7e134ac19e406e41473fe31a/execute?api-version=2.0&format=swagger'\n",
    "api_key = 'c455gBHxGlyTUPDmi0+BtbzmBsp/ml1ilJYf0/quiNKkQnc1JhMIEDBJPBqcDjxX3GvgG37m/5zdbVSUxpSyBA=='\n",
    "headers = {'Content-Type':'application/json', 'Authorization':('Bearer '+ api_key)}\n",
    "\n",
    "req = urllib.request.Request(url, body, headers)"
   ]
  },
  {
   "cell_type": "code",
   "execution_count": 5,
   "metadata": {},
   "outputs": [
    {
     "name": "stdout",
     "output_type": "stream",
     "text": [
      "b'{\"Results\":{\"output1\":[{\"Sepal-Length\":\"5.8\",\"Sepal-Width\":\"4\",\"Petal-Length\":\"1.2\",\"Petal-width\":\"0.2\",\"Class\":\"Iris-setosa\",\"Class-Type\":\"1\",\"Scored Probabilities for Class \\\\\"Iris-setosa\\\\\"\":\"0.999864399433136\",\"Scored Probabilities for Class \\\\\"Iris-versicolor\\\\\"\":\"0.000232088059419766\",\"Scored Probabilities for Class \\\\\"Iris-virginica\\\\\"\":\"1.30379363447002E-13\",\"Scored Labels\":\"Iris-setosa\"}]}}'\n"
     ]
    }
   ],
   "source": [
    "try:\n",
    "    response = urllib.request.urlopen(req)\n",
    "\n",
    "    result = response.read()\n",
    "    print(result)\n",
    "except urllib.error.HTTPError as error:\n",
    "    print(\"The request failed with status code: \" + str(error.code))\n",
    "\n",
    "    # Print the headers - they include the requert ID and the timestamp, which are useful for debugging the failure\n",
    "    print(error.info())\n",
    "    print(json.loads(error.read().decode(\"utf8\", 'ignore')))"
   ]
  },
  {
   "cell_type": "code",
   "execution_count": 69,
   "metadata": {},
   "outputs": [],
   "source": [
    "text = result.decode(\"utf-8\").split(',')\n",
    "\n",
    "setosa = float(text[6].split('\"')[5])\n",
    "versicolor = float(text[7].split('\"')[5])\n",
    "virginica = float(text[8].split('\"')[5])"
   ]
  },
  {
   "cell_type": "code",
   "execution_count": 76,
   "metadata": {},
   "outputs": [
    {
     "name": "stdout",
     "output_type": "stream",
     "text": [
      "Iris-Setosa: 0.999864399433136\n",
      "Iris-Versicolor: 0.000232088059419766\n",
      "Iris-Virginica: 1.30379363447002e-13\n"
     ]
    }
   ],
   "source": [
    "print(\"Iris-Setosa: {}\\nIris-Versicolor: {}\\nIris-Virginica: {}\".format(setosa,versicolor,virginica))"
   ]
  },
  {
   "cell_type": "code",
   "execution_count": null,
   "metadata": {
    "collapsed": true
   },
   "outputs": [],
   "source": []
  }
 ],
 "metadata": {
  "kernelspec": {
   "display_name": "Python 3",
   "language": "python",
   "name": "python3"
  },
  "language_info": {
   "codemirror_mode": {
    "name": "ipython",
    "version": 3
   },
   "file_extension": ".py",
   "mimetype": "text/x-python",
   "name": "python",
   "nbconvert_exporter": "python",
   "pygments_lexer": "ipython3",
   "version": "3.6.1"
  }
 },
 "nbformat": 4,
 "nbformat_minor": 2
}
